{
 "cells": [
  {
   "cell_type": "code",
   "execution_count": 1,
   "metadata": {},
   "outputs": [],
   "source": [
    "import requests\n",
    "import time\n",
    "import asyncio\n",
    "import aiohttp\n",
    "import multiprocessing\n",
    "import concurrent\n",
    "from concurrent.futures import ThreadPoolExecutor, ProcessPoolExecutor\n",
    "import math"
   ]
  },
  {
   "cell_type": "code",
   "execution_count": null,
   "metadata": {},
   "outputs": [],
   "source": []
  },
  {
   "cell_type": "markdown",
   "metadata": {},
   "source": [
    "## Async vs Sequential"
   ]
  },
  {
   "cell_type": "code",
   "execution_count": null,
   "metadata": {},
   "outputs": [
    {
     "name": "stdout",
     "output_type": "stream",
     "text": [
      "t\n",
      "0.7505519390106201\n"
     ]
    }
   ],
   "source": [
    "#https://stackoverflow.com/questions/57126286/fastest-parallel-requests-in-python\n",
    "async def get(url, session):\n",
    "    try:\n",
    "        async with session.get(url=url) as response:\n",
    "            resp = await response.read()\n",
    "            #print(\"Successfully got url {} with resp of length {}.\".format(url, len(resp)))\n",
    "    except Exception as e:\n",
    "        print(\"Unable to get url {} due to {}.\".format(url, e.__class__))\n",
    "\n",
    "\n",
    "async def main(urls):\n",
    "    async with aiohttp.ClientSession() as session:\n",
    "        #print('t')\n",
    "        ret = await asyncio.gather(*(get(url, session) for url in urls))\n",
    "    \n",
    "    #print(\"Finalized all. Return is a list of len {} outputs.\".format(len(ret)))\n",
    "def seq_main(urls):\n",
    "    with requests.Session() as session:\n",
    "        return [session.get(url) for url in urls]\n",
    "    \n",
    "    \n",
    "test_websites = ['https://google.com'] * 100\n",
    "start = time.time()\n",
    "await main(test_websites)\n",
    "end = time.time()\n",
    "print(end - start)\n",
    "\n",
    "# About 30 seconds on my machine - Alvin\n",
    "# start = time.time()\n",
    "# seq_main(test_websites)\n",
    "# end = time.time()\n",
    "# print(end - start)"
   ]
  },
  {
   "cell_type": "markdown",
   "metadata": {},
   "source": [
    "## Different implementations of Multiprocessing\n",
    "You can see that we get I/O Blocked"
   ]
  },
  {
   "cell_type": "code",
   "execution_count": null,
   "metadata": {},
   "outputs": [
    {
     "name": "stdout",
     "output_type": "stream",
     "text": [
      "1.6224572658538818\n",
      "23.54202365875244\n",
      "21.242860794067383\n"
     ]
    }
   ],
   "source": [
    "#https://stackoverflow.com/questions/57126286/fastest-parallel-requests-in-python\n",
    "test_websites = ['https://google.com'] * 500\n",
    "start = time.time()\n",
    "await main(test_websites)\n",
    "end = time.time()\n",
    "print(end - start)\n",
    "\n",
    "\n",
    "n_threads = 16\n",
    "\n",
    "start = time.time()\n",
    "with ProcessPoolExecutor(max_workers=n_threads) as executor:\n",
    "    # Start the load operations and mark each future with its URL\n",
    "    future_to_url = {executor.submit(requests.get, web): web for web in test_websites}\n",
    "    for future in concurrent.futures.as_completed(future_to_url):\n",
    "        url = future_to_url[future]\n",
    "        try:\n",
    "            data = future.result()\n",
    "        except Exception as exc:\n",
    "            print('%r generated an exception: %s' % (url, exc))\n",
    "        else:\n",
    "            pass\n",
    "            #print('%r page is %d bytes' % (url, len(data.content)))\n",
    "end = time.time()\n",
    "print(end - start)\n",
    "\n",
    "# https://docs.python.org/3/library/concurrent.futures.html#concurrent.futures.ThreadPoolExecutor\n",
    "start = time.time()\n",
    "\n",
    "with ThreadPoolExecutor(max_workers=n_threads) as executor:\n",
    "    # Start the load operations and mark each future with its URL\n",
    "    future_to_url = {executor.submit(requests.get, web): web for web in test_websites}\n",
    "    for future in concurrent.futures.as_completed(future_to_url):\n",
    "        url = future_to_url[future]\n",
    "        try:\n",
    "            data = future.result()\n",
    "        except Exception as exc:\n",
    "            print('%r generated an exception: %s' % (url, exc))\n",
    "        else:\n",
    "            pass\n",
    "            #print('%r page is %d bytes' % (url, len(data.content)))\n",
    "end = time.time()\n",
    "print(end - start)"
   ]
  },
  {
   "cell_type": "markdown",
   "metadata": {},
   "source": [
    "## Combine Multiprocessing and Asynio: Asyncio across multiple processes"
   ]
  },
  {
   "cell_type": "code",
   "execution_count": null,
   "metadata": {},
   "outputs": [
    {
     "name": "stdout",
     "output_type": "stream",
     "text": [
      "The autoreload extension is already loaded. To reload it, use:\n",
      "  %reload_ext autoreload\n"
     ]
    }
   ],
   "source": [
    "%load_ext autoreload\n",
    "%autoreload 2\n"
   ]
  },
  {
   "cell_type": "code",
   "execution_count": null,
   "metadata": {},
   "outputs": [],
   "source": [
    "# if u dont impriot it u get an error\n",
    "# https://stackoverflow.com/questions/62488423/brokenprocesspool-while-running-code-in-jupyter-notebook\n",
    "# https://stackoverflow.com/questions/78352063/python-concurrent-futures-processpoolexecutor-causes-brokenprocesspool-error-whe\n",
    "from broke import async_process_main"
   ]
  },
  {
   "cell_type": "code",
   "execution_count": 40,
   "metadata": {},
   "outputs": [
    {
     "name": "stdout",
     "output_type": "stream",
     "text": [
      "t\n",
      "0.7827343940734863\n",
      "7 <Response [200]>\n",
      "2.8510491847991943\n"
     ]
    }
   ],
   "source": [
    "test_websites = ['https://google.com'] * 100\n",
    "start = time.time()\n",
    "await main(test_websites)\n",
    "end = time.time()\n",
    "print(end - start)\n",
    "\n",
    "async def main(urls):\n",
    "    print('t')\n",
    "    async with aiohttp.ClientSession() as session:\n",
    "        \n",
    "        ret = await asyncio.gather(*(get(url, session) for url in urls))\n",
    "\n",
    "start = time.time()\n",
    "\n",
    "n_threads = 16\n",
    "    # Each process must run a asyncio function?\n",
    "await async_process_main(test_websites, n_threads)\n",
    "\n",
    "\n",
    "end = time.time()\n",
    "print(end - start)\n"
   ]
  }
 ],
 "metadata": {
  "kernelspec": {
   "display_name": "data",
   "language": "python",
   "name": "python3"
  },
  "language_info": {
   "codemirror_mode": {
    "name": "ipython",
    "version": 3
   },
   "file_extension": ".py",
   "mimetype": "text/x-python",
   "name": "python",
   "nbconvert_exporter": "python",
   "pygments_lexer": "ipython3",
   "version": "3.10.11"
  }
 },
 "nbformat": 4,
 "nbformat_minor": 2
}
