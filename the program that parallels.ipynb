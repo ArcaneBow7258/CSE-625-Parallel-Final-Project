{
 "cells": [
  {
   "cell_type": "code",
   "execution_count": 14,
   "metadata": {},
   "outputs": [],
   "source": [
    "import requests\n",
    "import time\n",
    "import asyncio\n",
    "import aiohttp\n",
    "import multiprocessing"
   ]
  },
  {
   "cell_type": "code",
   "execution_count": null,
   "metadata": {},
   "outputs": [],
   "source": []
  },
  {
   "cell_type": "code",
   "execution_count": null,
   "metadata": {},
   "outputs": [
    {
     "name": "stdout",
     "output_type": "stream",
     "text": [
      "0.9386866092681885\n",
      "37.71987056732178\n"
     ]
    }
   ],
   "source": [
    "#https://stackoverflow.com/questions/57126286/fastest-parallel-requests-in-python\n",
    "async def get(url, session):\n",
    "    try:\n",
    "        async with session.get(url=url) as response:\n",
    "            resp = await response.read()\n",
    "            #print(\"Successfully got url {} with resp of length {}.\".format(url, len(resp)))\n",
    "    except Exception as e:\n",
    "        print(\"Unable to get url {} due to {}.\".format(url, e.__class__))\n",
    "\n",
    "\n",
    "async def main(urls):\n",
    "    async with aiohttp.ClientSession() as session:\n",
    "        ret = await asyncio.gather(*(get(url, session) for url in urls))\n",
    "    \n",
    "    #print(\"Finalized all. Return is a list of len {} outputs.\".format(len(ret)))\n",
    "\n",
    "test_websites = ['https://google.com'] * 100\n",
    "start = time.time()\n",
    "await main(test_websites)\n",
    "end = time.time()\n",
    "print(end - start)\n",
    "\n",
    "start = time.time()\n",
    "for w in test_websites:\n",
    "    requests.get(w)\n",
    "end = time.time()\n",
    "print(end - start)"
   ]
  },
  {
   "cell_type": "code",
   "execution_count": 32,
   "metadata": {},
   "outputs": [],
   "source": [
    "import concurrent\n",
    "from concurrent.futures import ThreadPoolExecutor, ProcessPoolExecutor"
   ]
  },
  {
   "cell_type": "code",
   "execution_count": null,
   "metadata": {},
   "outputs": [
    {
     "name": "stdout",
     "output_type": "stream",
     "text": [
      "1.6224572658538818\n",
      "23.54202365875244\n",
      "21.242860794067383\n"
     ]
    }
   ],
   "source": [
    "#https://stackoverflow.com/questions/57126286/fastest-parallel-requests-in-python\n",
    "test_websites = ['https://google.com'] * 500\n",
    "start = time.time()\n",
    "await main(test_websites)\n",
    "end = time.time()\n",
    "print(end - start)\n",
    "\n",
    "\n",
    "n_threads = 16\n",
    "\n",
    "start = time.time()\n",
    "with ProcessPoolExecutor(max_workers=n_threads) as executor:\n",
    "    # Start the load operations and mark each future with its URL\n",
    "    future_to_url = {executor.submit(requests.get, web): web for web in test_websites}\n",
    "    for future in concurrent.futures.as_completed(future_to_url):\n",
    "        url = future_to_url[future]\n",
    "        try:\n",
    "            data = future.result()\n",
    "        except Exception as exc:\n",
    "            print('%r generated an exception: %s' % (url, exc))\n",
    "        else:\n",
    "            pass\n",
    "            #print('%r page is %d bytes' % (url, len(data.content)))\n",
    "end = time.time()\n",
    "print(end - start)\n",
    "\n",
    "# https://docs.python.org/3/library/concurrent.futures.html#concurrent.futures.ThreadPoolExecutor\n",
    "start = time.time()\n",
    "\n",
    "with ThreadPoolExecutor(max_workers=n_threads) as executor:\n",
    "    # Start the load operations and mark each future with its URL\n",
    "    future_to_url = {executor.submit(requests.get, web): web for web in test_websites}\n",
    "    for future in concurrent.futures.as_completed(future_to_url):\n",
    "        url = future_to_url[future]\n",
    "        try:\n",
    "            data = future.result()\n",
    "        except Exception as exc:\n",
    "            print('%r generated an exception: %s' % (url, exc))\n",
    "        else:\n",
    "            pass\n",
    "            #print('%r page is %d bytes' % (url, len(data.content)))\n",
    "end = time.time()\n",
    "print(end - start)"
   ]
  }
 ],
 "metadata": {
  "kernelspec": {
   "display_name": "data",
   "language": "python",
   "name": "python3"
  },
  "language_info": {
   "codemirror_mode": {
    "name": "ipython",
    "version": 3
   },
   "file_extension": ".py",
   "mimetype": "text/x-python",
   "name": "python",
   "nbconvert_exporter": "python",
   "pygments_lexer": "ipython3",
   "version": "3.10.11"
  }
 },
 "nbformat": 4,
 "nbformat_minor": 2
}
